{
 "cells": [
  {
   "cell_type": "code",
   "execution_count": 1,
   "id": "843cf82c",
   "metadata": {},
   "outputs": [],
   "source": [
    "import os\n",
    "import sys\n",
    "import networkx as nx\n",
    "import pandas as pd\n",
    "import numpy as np\n",
    "\n",
    "module_path = os.path.abspath(os.path.join('..'))\n",
    "if module_path not in sys.path:\n",
    "    sys.path.append(module_path)\n",
    "\n",
    "from pathlib import Path\n",
    "from networkx.convert_matrix import from_numpy_matrix\n",
    "from src.models import AffProp"
   ]
  },
  {
   "cell_type": "code",
   "execution_count": 2,
   "id": "c75deef7",
   "metadata": {},
   "outputs": [],
   "source": [
    "data_path = Path(\"../data/raw/gowalla\")"
   ]
  },
  {
   "cell_type": "code",
   "execution_count": 3,
   "id": "d0d0945b",
   "metadata": {},
   "outputs": [],
   "source": [
    "friendship_graph = nx.read_edgelist(data_path / \"Gowalla_edges.txt\", create_using=nx.Graph(), nodetype=int)"
   ]
  },
  {
   "cell_type": "code",
   "execution_count": 4,
   "id": "4a25c84d",
   "metadata": {},
   "outputs": [],
   "source": [
    "num_samples = 5000\n",
    "users = np.arange(len(friendship_graph))[: num_samples]"
   ]
  },
  {
   "cell_type": "code",
   "execution_count": 5,
   "id": "1af3af72",
   "metadata": {},
   "outputs": [],
   "source": [
    "slice_adj = nx.adjacency_matrix(friendship_graph)[users, :][:, users]\n",
    "slice_graph = from_numpy_matrix(slice_adj)"
   ]
  },
  {
   "cell_type": "code",
   "execution_count": 6,
   "id": "f2344a3d",
   "metadata": {},
   "outputs": [],
   "source": [
    "S = slice_adj.toarray()\n",
    "self_similarity = np.percentile(S, 0.5)\n",
    "S = S + np.eye(S.shape[0]) * self_similarity"
   ]
  },
  {
   "cell_type": "code",
   "execution_count": 7,
   "id": "8dba4147",
   "metadata": {},
   "outputs": [],
   "source": [
    "est = AffProp(random_seed=0)"
   ]
  },
  {
   "cell_type": "code",
   "execution_count": 8,
   "id": "bbf236de",
   "metadata": {},
   "outputs": [],
   "source": [
    "est.fit(S)"
   ]
  },
  {
   "cell_type": "code",
   "execution_count": 9,
   "id": "f4a79f02",
   "metadata": {},
   "outputs": [
    {
     "data": {
      "text/plain": [
       "23"
      ]
     },
     "execution_count": 9,
     "metadata": {},
     "output_type": "execute_result"
    }
   ],
   "source": [
    "len(est.cluster_centers_indices_)"
   ]
  },
  {
   "cell_type": "code",
   "execution_count": 10,
   "id": "4b5dd040",
   "metadata": {},
   "outputs": [],
   "source": [
    "checkin_df = pd.read_csv(\n",
    "    data_path / \"Gowalla_totalCheckins.txt\",\n",
    "    names=[\"user\", \"check-in time\", \"latitude\", \"longitude\", \"location id\"],\n",
    "    sep=\" |\\t\",\n",
    "    engine=\"python\"\n",
    ")"
   ]
  },
  {
   "cell_type": "code",
   "execution_count": 11,
   "id": "a7efad60",
   "metadata": {},
   "outputs": [],
   "source": [
    "slice_df = checkin_df[checkin_df[\"user\"].isin(users)]"
   ]
  },
  {
   "cell_type": "code",
   "execution_count": 12,
   "id": "45d7a3a9",
   "metadata": {},
   "outputs": [],
   "source": [
    "num_folds = 10\n",
    "fold_size = int(num_samples / num_folds)\n",
    "np.random.seed(0)\n",
    "shuffled_users = np.random.permutation(users)\n",
    "report_table = pd.DataFrame(columns=[\"Top10_accuracy\"])\n",
    "\n",
    "for fold_id in range(num_folds):\n",
    "    if fold_id < num_folds - 1:\n",
    "        test_users = shuffled_users[fold_id * fold_size: (fold_id + 1) * fold_size]\n",
    "    else:\n",
    "        test_users = shuffled_users[fold_id * fold_size: ]\n",
    "    train_df = slice_df[~slice_df[\"user\"].isin(test_users)]\n",
    "    score = 0\n",
    "    for cluster_id in np.unique(est.labels_):\n",
    "        cluster_users = users[np.argwhere(est.labels_ == cluster_id).flatten()]\n",
    "        test_cluster_users = np.intersect1d(cluster_users, test_users)\n",
    "        if len(test_cluster_users) > 0:\n",
    "            cluster_df = train_df[train_df[\"user\"].isin(cluster_users)]\n",
    "            top10 = (\n",
    "                cluster_df\n",
    "                .drop_duplicates([\"user\", \"location id\"])[\"location id\"]\n",
    "                .value_counts()\n",
    "                .index\n",
    "                .to_numpy()[:10]\n",
    "            )\n",
    "        for user_id in test_cluster_users:\n",
    "            user_df = slice_df[slice_df[\"user\"] == user_id]\n",
    "            user_score = user_df[\"location id\"].drop_duplicates().isin(top10).sum() / 10\n",
    "            score += user_score\n",
    "    score /= len(test_users)\n",
    "    report_table = report_table.append({\"Top10_accuracy\": score}, ignore_index=True)"
   ]
  },
  {
   "cell_type": "code",
   "execution_count": 13,
   "id": "c10c1033",
   "metadata": {},
   "outputs": [
    {
     "data": {
      "text/html": [
       "<div>\n",
       "<style scoped>\n",
       "    .dataframe tbody tr th:only-of-type {\n",
       "        vertical-align: middle;\n",
       "    }\n",
       "\n",
       "    .dataframe tbody tr th {\n",
       "        vertical-align: top;\n",
       "    }\n",
       "\n",
       "    .dataframe thead th {\n",
       "        text-align: right;\n",
       "    }\n",
       "</style>\n",
       "<table border=\"1\" class=\"dataframe\">\n",
       "  <thead>\n",
       "    <tr style=\"text-align: right;\">\n",
       "      <th></th>\n",
       "      <th>Top10_accuracy</th>\n",
       "    </tr>\n",
       "  </thead>\n",
       "  <tbody>\n",
       "    <tr>\n",
       "      <th>0</th>\n",
       "      <td>0.0852</td>\n",
       "    </tr>\n",
       "    <tr>\n",
       "      <th>1</th>\n",
       "      <td>0.0758</td>\n",
       "    </tr>\n",
       "    <tr>\n",
       "      <th>2</th>\n",
       "      <td>0.0796</td>\n",
       "    </tr>\n",
       "    <tr>\n",
       "      <th>3</th>\n",
       "      <td>0.0710</td>\n",
       "    </tr>\n",
       "    <tr>\n",
       "      <th>4</th>\n",
       "      <td>0.0752</td>\n",
       "    </tr>\n",
       "    <tr>\n",
       "      <th>5</th>\n",
       "      <td>0.0842</td>\n",
       "    </tr>\n",
       "    <tr>\n",
       "      <th>6</th>\n",
       "      <td>0.0706</td>\n",
       "    </tr>\n",
       "    <tr>\n",
       "      <th>7</th>\n",
       "      <td>0.0846</td>\n",
       "    </tr>\n",
       "    <tr>\n",
       "      <th>8</th>\n",
       "      <td>0.0788</td>\n",
       "    </tr>\n",
       "    <tr>\n",
       "      <th>9</th>\n",
       "      <td>0.0924</td>\n",
       "    </tr>\n",
       "  </tbody>\n",
       "</table>\n",
       "</div>"
      ],
      "text/plain": [
       "   Top10_accuracy\n",
       "0          0.0852\n",
       "1          0.0758\n",
       "2          0.0796\n",
       "3          0.0710\n",
       "4          0.0752\n",
       "5          0.0842\n",
       "6          0.0706\n",
       "7          0.0846\n",
       "8          0.0788\n",
       "9          0.0924"
      ]
     },
     "execution_count": 13,
     "metadata": {},
     "output_type": "execute_result"
    }
   ],
   "source": [
    "report_table"
   ]
  },
  {
   "cell_type": "code",
   "execution_count": 14,
   "id": "03c98805",
   "metadata": {},
   "outputs": [
    {
     "name": "stdout",
     "output_type": "stream",
     "text": [
      "Mean top10 accuracy: 0.07974000000000009\n"
     ]
    }
   ],
   "source": [
    "print(f\"Mean top10 accuracy: {report_table['Top10_accuracy'].mean()}\")"
   ]
  },
  {
   "cell_type": "code",
   "execution_count": null,
   "id": "9cb9c45e",
   "metadata": {},
   "outputs": [],
   "source": []
  }
 ],
 "metadata": {
  "kernelspec": {
   "display_name": "Python 3 (ipykernel)",
   "language": "python",
   "name": "python3"
  },
  "language_info": {
   "codemirror_mode": {
    "name": "ipython",
    "version": 3
   },
   "file_extension": ".py",
   "mimetype": "text/x-python",
   "name": "python",
   "nbconvert_exporter": "python",
   "pygments_lexer": "ipython3",
   "version": "3.9.6"
  }
 },
 "nbformat": 4,
 "nbformat_minor": 5
}
